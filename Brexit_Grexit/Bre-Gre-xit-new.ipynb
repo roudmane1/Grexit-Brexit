{
 "cells": [
  {
   "cell_type": "code",
   "execution_count": 1,
   "metadata": {
    "collapsed": true
   },
   "outputs": [],
   "source": [
    "from lxml import etree\n",
    "from lxml.etree import tostring\n",
    "from collections import OrderedDict\n",
    "from collections import defaultdict\n",
    "import itertools as it"
   ]
  },
  {
   "cell_type": "code",
   "execution_count": 2,
   "metadata": {
    "collapsed": true
   },
   "outputs": [],
   "source": [
    "#importation du fichier xml des articles de grexit\n",
    "xmldoc = etree.parse(\"presse-fra-grexit-utf8-xml.xml\")\n"
   ]
  },
  {
   "cell_type": "code",
   "execution_count": 3,
   "metadata": {
    "collapsed": true
   },
   "outputs": [],
   "source": [
    "persons_ids = xmldoc.xpath('//tc:namedEntities/tc:entity[@class=\"PER\"]/@tokenIDs', namespaces={'tc': 'http://www.dspin.de/data/textcorpus'})#on prend les token des lignes de class PER \n"
   ]
  },
  {
   "cell_type": "code",
   "execution_count": 4,
   "metadata": {
    "collapsed": true
   },
   "outputs": [],
   "source": [
    "\n",
    "\n",
    "article_id = xmldoc.xpath('//text/@id')#on prend les token des lignes de class PER \n",
    "\n",
    "#the result is a list of identifiers\n",
    "#print(article_id)"
   ]
  },
  {
   "cell_type": "code",
   "execution_count": 5,
   "metadata": {},
   "outputs": [
    {
     "name": "stdout",
     "output_type": "stream",
     "text": [
      "Nombre d'article\n"
     ]
    },
    {
     "data": {
      "text/plain": [
       "1185"
      ]
     },
     "execution_count": 5,
     "metadata": {},
     "output_type": "execute_result"
    }
   ],
   "source": [
    "#nbr d'article\n",
    "print(\"Nombre d'article\")\n",
    "len(article_id)"
   ]
  },
  {
   "cell_type": "code",
   "execution_count": 6,
   "metadata": {},
   "outputs": [
    {
     "name": "stdout",
     "output_type": "stream",
     "text": [
      "[\"La BCE avance sur le terrain des rachats d'actifs en 2015\"]\n"
     ]
    }
   ],
   "source": [
    "#essaye de recuperer le titre d'un article\n",
    "titre = xmldoc.xpath(\"//text[@id='1']/p[@type='title']/text()\") \n",
    "\n",
    "#the result is a list of identifiers\n",
    "print(titre)"
   ]
  },
  {
   "cell_type": "code",
   "execution_count": 7,
   "metadata": {},
   "outputs": [
    {
     "name": "stdout",
     "output_type": "stream",
     "text": [
      "[\"La BCE avance sur le terrain des rachats d'actifs en 2015\", \"La Banque centrale européenne continue de préparer le terrain pour de nouvelles mesures non conventionnelles pour lutter contre le risque de déflation. Peter Praet, son chef économiste, a reconnu dans un entretien au journal allemand « Börsen Zeitung » que les mesures monétaires prises (achat d'actifs titrisés, prêts préférentiels aux banques...) pourraient ne pas suffire, d'autant que la chute des prix du pétrole risque d'entraîner l'inflation en territoire négatif « pendant une bonne partie de 2015 » . Il rappelle en effet que les anticipations d'inflation sont « extrêmement fragiles » . La baisse des cours du pétrole se fait déjà sentir, comme en Espagne, où les prix à la consommation ont reculé de 1,1 % au mois de décembre, la plus forte baisse depuis juillet 2009.\", \"Alors que le principal taux directeur de la BCE est proche de 0, la marge de manoeuvre de l'institution se réduit. « Si mon analyse est qu'il y a besoin d'un nouveau soutien monétaire et si je suis disposé à réduire les taux mais que cela n'est plus possible, alors je ne dois pas être paralysé à l'idée que la seule option qui reste est l'achat d'obligations souveraines » , a insisté Peter Praet, avant d'ajouter que « les emprunts d'Etat sont les seuls actifs bénéficiant d'un volume de marché significatif » .\", 'Résultats mitigés des prêts TLTRO', \"Le résultat mitigé des prêts TLTRO aux banques montre aussi la difficulté de la BCE à augmenter son bilan pour soutenir la croissance. Un autre chiffre va sans doute infléchir la position de la BCE : les crédits octroyés aux ménages et aux entreprises de la zone euro ont reculé de 0,9 % au mois de novembre. Signe que le transfert de la politique accommodante de la BCE vers l'économie réelle est loin d'être optimal.\", \"Par ailleurs, dans l'entretien accordé au journal allemand, le Belge Peter Praet s'est montré préoccupé par la perspective d'élections législatives anticipées en Grèce. Alors que le parti anti-austérité Syriza est le grand favori des sondages, le chef économiste de la BCE a lancé un avertissement : « La montée du populisme devrait être un signal d'alarme. Les gouvernements doivent donner la priorité aux décisions politiques difficiles et mener à terme les réformes si nécessaires. »\", \"A moins d'un mois des élections législatives en Grèce, il place aussi les électeurs, tentés par un « Grexit » , face à leurs responsabilités : « Les partis populistes dans certains pays promettent des solutions rapides, mais ils n'offrent que des recettes désastreuses » , en rappelant que « tous les pays ont eu leur raison pour entrer dans la zone euro : le vieux système de dévaluation permanente ne fonctionnait pas. Ce qui est désormais requis, c'est de mener les ajustements structurels nécessaires. Une politique de dévaluation ne résout aucun problème structurel. » L'année 2015 sera aussi marquée par la tenue d'élections en Espagne qui pourraient voir la montée en puissance du parti de gauche radicale Podemos. En attendant, les pays de la zone euro continuent de bénéficier de conditions de financement exceptionnelles. Le rendement du taux à 10 ans français est tombé sous le 0,80 % mercredi, alors que le Bund allemand était à 0,537 %.\", 'P. Fay']\n"
     ]
    }
   ],
   "source": [
    "#essaye de recuperer le text d'un article\n",
    "text = xmldoc.xpath(\"//text[@id='1']/p/text()\") \n",
    "\n",
    "#the result is a list of identifiers\n",
    "print(text)"
   ]
  },
  {
   "cell_type": "code",
   "execution_count": 8,
   "metadata": {},
   "outputs": [
    {
     "data": {
      "text/plain": [
       "8"
      ]
     },
     "execution_count": 8,
     "metadata": {},
     "output_type": "execute_result"
    }
   ],
   "source": [
    "len(text)"
   ]
  },
  {
   "cell_type": "code",
   "execution_count": 9,
   "metadata": {},
   "outputs": [
    {
     "name": "stdout",
     "output_type": "stream",
     "text": [
      "['CHRISTOPHE LUCET c.lucet@sudouest.fr']\n"
     ]
    }
   ],
   "source": [
    "#essayer de recuperer l'auteur\n",
    "auteur = xmldoc.xpath(\"//text[@id='2']/@author\") \n",
    "\n",
    "#the result is a list of identifiers\n",
    "print(auteur)"
   ]
  },
  {
   "cell_type": "code",
   "execution_count": 10,
   "metadata": {
    "collapsed": true
   },
   "outputs": [],
   "source": [
    "#tableaux de tous les p"
   ]
  },
  {
   "cell_type": "code",
   "execution_count": 3,
   "metadata": {},
   "outputs": [
    {
     "ename": "NameError",
     "evalue": "name 'article_id' is not defined",
     "output_type": "error",
     "traceback": [
      "\u001b[1;31m---------------------------------------------------------------------------\u001b[0m",
      "\u001b[1;31mNameError\u001b[0m                                 Traceback (most recent call last)",
      "\u001b[1;32m<ipython-input-3-0e6aa81c2bc9>\u001b[0m in \u001b[0;36m<module>\u001b[1;34m()\u001b[0m\n\u001b[0;32m     14\u001b[0m             \u001b[0mtext\u001b[0m\u001b[1;33m.\u001b[0m\u001b[0mappend\u001b[0m\u001b[1;33m(\u001b[0m\u001b[0mconcat\u001b[0m\u001b[1;33m)\u001b[0m\u001b[1;33m\u001b[0m\u001b[0m\n\u001b[0;32m     15\u001b[0m     \u001b[0mprint\u001b[0m\u001b[1;33m(\u001b[0m\u001b[0mtext\u001b[0m\u001b[1;33m[\u001b[0m\u001b[1;36m230\u001b[0m\u001b[1;33m]\u001b[0m\u001b[1;33m)\u001b[0m\u001b[1;33m\u001b[0m\u001b[0m\n\u001b[1;32m---> 16\u001b[1;33m \u001b[0mprint\u001b[0m\u001b[1;33m(\u001b[0m\u001b[0mget_article_titre\u001b[0m\u001b[1;33m(\u001b[0m\u001b[1;33m)\u001b[0m\u001b[1;33m)\u001b[0m\u001b[1;33m\u001b[0m\u001b[0m\n\u001b[0m\u001b[0;32m     17\u001b[0m \u001b[1;33m\u001b[0m\u001b[0m\n",
      "\u001b[1;32m<ipython-input-3-0e6aa81c2bc9>\u001b[0m in \u001b[0;36mget_article_titre\u001b[1;34m()\u001b[0m\n\u001b[0;32m      2\u001b[0m     \u001b[0marticle\u001b[0m \u001b[1;33m=\u001b[0m \u001b[0mOrderedDict\u001b[0m\u001b[1;33m(\u001b[0m\u001b[1;33m)\u001b[0m\u001b[1;33m\u001b[0m\u001b[0m\n\u001b[0;32m      3\u001b[0m     \u001b[0mtext\u001b[0m \u001b[1;33m=\u001b[0m\u001b[1;33m[\u001b[0m\u001b[1;33m]\u001b[0m\u001b[1;33m\u001b[0m\u001b[0m\n\u001b[1;32m----> 4\u001b[1;33m     \u001b[1;32mfor\u001b[0m \u001b[0mi\u001b[0m \u001b[1;32min\u001b[0m \u001b[0marticle_id\u001b[0m\u001b[1;33m:\u001b[0m\u001b[1;33m\u001b[0m\u001b[0m\n\u001b[0m\u001b[0;32m      5\u001b[0m         \u001b[0marticle_id_list\u001b[0m \u001b[1;33m=\u001b[0m \u001b[0mi\u001b[0m\u001b[1;33m.\u001b[0m\u001b[0msplit\u001b[0m\u001b[1;33m(\u001b[0m\u001b[1;34m\" \"\u001b[0m\u001b[1;33m)\u001b[0m\u001b[1;33m\u001b[0m\u001b[0m\n\u001b[0;32m      6\u001b[0m         \u001b[1;31m#print(article_id)\u001b[0m\u001b[1;33m\u001b[0m\u001b[1;33m\u001b[0m\u001b[0m\n",
      "\u001b[1;31mNameError\u001b[0m: name 'article_id' is not defined"
     ]
    }
   ],
   "source": [
    "def get_article_titre():\n",
    "    article = OrderedDict()\n",
    "    text =[] \n",
    "    for i in article_id:\n",
    "        article_id_list = i.split(\" \")\n",
    "        #print(article_id)\n",
    "\n",
    "        #print(article_id_list)\n",
    "        for j in article_id_list:\n",
    "            token_text = xmldoc.xpath(\"//text[@id='\"+j+\"']/p/text()\")\n",
    "            concat = \"\"\n",
    "            for k in token_text:\n",
    "                concat = concat+k\n",
    "            text.append(concat)\n",
    "    print(text[230])\n",
    "print(get_article_titre())        \n",
    "       "
   ]
  },
  {
   "cell_type": "code",
   "execution_count": null,
   "metadata": {
    "collapsed": true
   },
   "outputs": [],
   "source": []
  },
  {
   "cell_type": "code",
   "execution_count": 3,
   "metadata": {},
   "outputs": [
    {
     "ename": "NameError",
     "evalue": "name 'article_id' is not defined",
     "output_type": "error",
     "traceback": [
      "\u001b[1;31m---------------------------------------------------------------------------\u001b[0m",
      "\u001b[1;31mNameError\u001b[0m                                 Traceback (most recent call last)",
      "\u001b[1;32m<ipython-input-3-e309d0a815ab>\u001b[0m in \u001b[0;36m<module>\u001b[1;34m()\u001b[0m\n\u001b[0;32m     13\u001b[0m \u001b[1;33m\u001b[0m\u001b[0m\n\u001b[0;32m     14\u001b[0m     \u001b[0mprint\u001b[0m\u001b[1;33m(\u001b[0m\u001b[0mtitre\u001b[0m\u001b[1;33m[\u001b[0m\u001b[1;36m0\u001b[0m\u001b[1;33m]\u001b[0m\u001b[1;33m)\u001b[0m\u001b[1;33m\u001b[0m\u001b[0m\n\u001b[1;32m---> 15\u001b[1;33m \u001b[0mprint\u001b[0m\u001b[1;33m(\u001b[0m\u001b[0mget_article_titre\u001b[0m\u001b[1;33m(\u001b[0m\u001b[1;33m)\u001b[0m\u001b[1;33m)\u001b[0m\u001b[1;33m\u001b[0m\u001b[0m\n\u001b[0m\u001b[0;32m     16\u001b[0m \u001b[1;33m\u001b[0m\u001b[0m\n",
      "\u001b[1;32m<ipython-input-3-e309d0a815ab>\u001b[0m in \u001b[0;36mget_article_titre\u001b[1;34m()\u001b[0m\n\u001b[0;32m      3\u001b[0m     \u001b[0marticle\u001b[0m \u001b[1;33m=\u001b[0m \u001b[0mOrderedDict\u001b[0m\u001b[1;33m(\u001b[0m\u001b[1;33m)\u001b[0m\u001b[1;33m\u001b[0m\u001b[0m\n\u001b[0;32m      4\u001b[0m     \u001b[0mtitre\u001b[0m \u001b[1;33m=\u001b[0m\u001b[1;33m[\u001b[0m\u001b[1;33m]\u001b[0m\u001b[1;33m\u001b[0m\u001b[0m\n\u001b[1;32m----> 5\u001b[1;33m     \u001b[1;32mfor\u001b[0m \u001b[0mi\u001b[0m \u001b[1;32min\u001b[0m \u001b[0marticle_id\u001b[0m\u001b[1;33m:\u001b[0m\u001b[1;33m\u001b[0m\u001b[0m\n\u001b[0m\u001b[0;32m      6\u001b[0m         \u001b[0marticle_id_list\u001b[0m \u001b[1;33m=\u001b[0m \u001b[0mi\u001b[0m\u001b[1;33m.\u001b[0m\u001b[0msplit\u001b[0m\u001b[1;33m(\u001b[0m\u001b[1;34m\" \"\u001b[0m\u001b[1;33m)\u001b[0m\u001b[1;33m\u001b[0m\u001b[0m\n\u001b[0;32m      7\u001b[0m         \u001b[1;31m#print(article_id)\u001b[0m\u001b[1;33m\u001b[0m\u001b[1;33m\u001b[0m\u001b[0m\n",
      "\u001b[1;31mNameError\u001b[0m: name 'article_id' is not defined"
     ]
    }
   ],
   "source": [
    "\n",
    "def get_article_titre():\n",
    "    article = OrderedDict()\n",
    "    titre =[]\n",
    "    for i in article_id:\n",
    "        article_id_list = i.split(\" \")\n",
    "        #print(article_id)\n",
    "\n",
    "        #print(article_id_list) \n",
    "        for j in article_id_list:\n",
    "            token_titre = xmldoc.xpath(\"//text[@id='\"+j+\"']/p[@type='title']/text()\")\n",
    "            titre.append(token_titre)\n",
    "                \n",
    "    print(titre[0])         \n",
    "print(get_article_titre())        \n",
    "        "
   ]
  },
  {
   "cell_type": "code",
   "execution_count": 2,
   "metadata": {
    "collapsed": true
   },
   "outputs": [],
   "source": [
    "def articles_dict() :\n",
    "    articles = {}\n",
    "    xmldoc = etree.parse(\"presse-fra-grexit-utf8-xml.xml\")\n",
    "    article_id = xmldoc.xpath('//text/@id')\n",
    "    for i in article_id:\n",
    "        j = int(i)\n",
    "        info = []\n",
    "        info.append(xmldoc.xpath(\"//text[@id='\"+i+\"']/p[@type='title']/text()\")[0])\n",
    "        info.append(xmldoc.xpath(\"//text[@id='\"+i+\"']/@author\")[0])\n",
    "        info.append(xmldoc.xpath(\"//text[@id='\"+i+\"']/@sourcename\")[0])\n",
    "        info.append(xmldoc.xpath(\"//text[@id='\"+i+\"']/@sig\")[0])\n",
    "        info.append(xmldoc.xpath(\"//text[@id='\"+i+\"']/@author\")[0])\n",
    "        info.append(xmldoc.xpath(\"//text[@id='\"+i+\"']/@year\")[0])\n",
    "        info.append(xmldoc.xpath(\"//text[@id='\"+i+\"']/@date\")[0])\n",
    "        info.append(xmldoc.xpath(\"//text[@id='\"+i+\"']/@section\")[0])\n",
    "        info.append(xmldoc.xpath(\"//text[@id='\"+i+\"']/@sourcesig\")[0])\n",
    "        info.append(xmldoc.xpath(\"//text[@id='\"+i+\"']/@vol\")[0])\n",
    "        info.append(xmldoc.xpath(\"//text[@id='\"+i+\"']/@kwconcept\")[0])\n",
    "        info.append(xmldoc.xpath(\"//text[@id='\"+i+\"']/@kwsubject\")[0])\n",
    "        info.append(xmldoc.xpath(\"//text[@id='\"+i+\"']/@polarity\")[0])\n",
    "        info.append(xmldoc.xpath(\"//text[@id='\"+i+\"']/p/text()\"))\n",
    "        articles[j] = info\n",
    "    return articles\n",
    "    \n",
    "def articles_text() :\n",
    "    articles = {}\n",
    "    xmldoc = etree.parse(\"presse-fra-grexit-utf8-xml.xml\")\n",
    "    article_id = xmldoc.xpath('//text/@id')\n",
    "    for i in article_id:\n",
    "        j = int(i)\n",
    "        info = []\n",
    "        info.append(xmldoc.xpath(\"//text[@id='\"+i+\"']/p/text()\"))\n",
    "        articles[j] = info\n",
    "    return articles"
   ]
  },
  {
   "cell_type": "code",
   "execution_count": 4,
   "metadata": {},
   "outputs": [],
   "source": [
    "all_article=articles_dict()"
   ]
  },
  {
   "cell_type": "code",
   "execution_count": 16,
   "metadata": {},
   "outputs": [],
   "source": [
    "for i in range(1,(len(all_article)+1)):\n",
    "        for j in range(0,(len(all_article[i][13]))):\n",
    "            nom_fichier = \"text/art_\"+str(i)+\"_\"+str(j)+\".txt\"\n",
    "            fichier = open(nom_fichier, \"x\")\n",
    "            fichier.write(all_article[i][13][j])\n",
    "            fichier.close()\n",
    "            \n",
    "            \n"
   ]
  },
  {
   "cell_type": "code",
   "execution_count": 31,
   "metadata": {},
   "outputs": [
    {
     "ename": "IndexError",
     "evalue": "list index out of range",
     "output_type": "error",
     "traceback": [
      "\u001b[1;31m---------------------------------------------------------------------------\u001b[0m",
      "\u001b[1;31mIndexError\u001b[0m                                Traceback (most recent call last)",
      "\u001b[1;32m<ipython-input-31-bfa45bb09f97>\u001b[0m in \u001b[0;36m<module>\u001b[1;34m()\u001b[0m\n\u001b[1;32m----> 1\u001b[1;33m \u001b[0mall_article\u001b[0m\u001b[1;33m[\u001b[0m\u001b[1;36m1185\u001b[0m\u001b[1;33m]\u001b[0m\u001b[1;33m[\u001b[0m\u001b[1;36m13\u001b[0m\u001b[1;33m]\u001b[0m\u001b[1;33m[\u001b[0m\u001b[1;36m6\u001b[0m\u001b[1;33m]\u001b[0m\u001b[1;33m\u001b[0m\u001b[0m\n\u001b[0m",
      "\u001b[1;31mIndexError\u001b[0m: list index out of range"
     ]
    }
   ],
   "source": [
    "all_article[1185][13][6]"
   ]
  },
  {
   "cell_type": "code",
   "execution_count": 12,
   "metadata": {},
   "outputs": [
    {
     "data": {
      "text/plain": [
       "range(0, 7)"
      ]
     },
     "execution_count": 12,
     "metadata": {},
     "output_type": "execute_result"
    }
   ],
   "source": []
  }
 ],
 "metadata": {
  "kernelspec": {
   "display_name": "Python 3",
   "language": "python",
   "name": "python3"
  },
  "language_info": {
   "codemirror_mode": {
    "name": "ipython",
    "version": 3
   },
   "file_extension": ".py",
   "mimetype": "text/x-python",
   "name": "python",
   "nbconvert_exporter": "python",
   "pygments_lexer": "ipython3",
   "version": "3.6.1"
  }
 },
 "nbformat": 4,
 "nbformat_minor": 2
}
