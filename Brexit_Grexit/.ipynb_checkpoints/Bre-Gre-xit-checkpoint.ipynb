{
 "cells": [
  {
   "cell_type": "code",
   "execution_count": 2,
   "metadata": {
    "collapsed": true
   },
   "outputs": [],
   "source": [
    "from lxml import etree\n",
    "from lxml.etree import tostring\n",
    "from collections import OrderedDict\n",
    "from collections import defaultdict\n",
    "import itertools as it"
   ]
  },
  {
   "cell_type": "code",
   "execution_count": 3,
   "metadata": {},
   "outputs": [],
   "source": [
    "#importation du fichier xml des articles de grexit\n",
    "xmldoc = etree.parse(\"test_grexit.xml\")\n"
   ]
  },
  {
   "cell_type": "code",
   "execution_count": 4,
   "metadata": {
    "collapsed": true
   },
   "outputs": [],
   "source": [
    "persons_ids = xmldoc.xpath('//tc:namedEntities/tc:entity[@class=\"PER\"]/@tokenIDs', namespaces={'tc': 'http://www.dspin.de/data/textcorpus'})#on prend les token des lignes de class PER \n"
   ]
  },
  {
   "cell_type": "code",
   "execution_count": 5,
   "metadata": {
    "collapsed": true
   },
   "outputs": [],
   "source": [
    "\n",
    "\n",
    "article_id = xmldoc.xpath('//text/@id')#on prend les token des lignes de class PER \n",
    "\n",
    "#the result is a list of identifiers\n",
    "#print(article_id)"
   ]
  },
  {
   "cell_type": "code",
   "execution_count": 6,
   "metadata": {},
   "outputs": [
    {
     "name": "stdout",
     "output_type": "stream",
     "text": [
      "Nombre d'article\n"
     ]
    },
    {
     "data": {
      "text/plain": [
       "1185"
      ]
     },
     "execution_count": 6,
     "metadata": {},
     "output_type": "execute_result"
    }
   ],
   "source": [
    "#nbr d'article\n",
    "print(\"Nombre d'article\")\n",
    "len(article_id)"
   ]
  },
  {
   "cell_type": "code",
   "execution_count": 7,
   "metadata": {},
   "outputs": [
    {
     "name": "stdout",
     "output_type": "stream",
     "text": [
      "[\"La BCE avance sur le terrain des rachats d'actifs en 2015\"]\n"
     ]
    }
   ],
   "source": [
    "#essaye de recuperer le titre d'un article\n",
    "titre = xmldoc.xpath(\"//text[@id='1']/p[@type='title']/text()\") \n",
    "\n",
    "#the result is a list of identifiers\n",
    "print(titre)"
   ]
  },
  {
   "cell_type": "code",
   "execution_count": 8,
   "metadata": {},
   "outputs": [
    {
     "name": "stdout",
     "output_type": "stream",
     "text": [
      "[\"La BCE avance sur le terrain des rachats d'actifs en 2015\", \"La Banque centrale européenne continue de préparer le terrain pour de nouvelles mesures non conventionnelles pour lutter contre le risque de déflation. Peter Praet, son chef économiste, a reconnu dans un entretien au journal allemand « Börsen Zeitung » que les mesures monétaires prises (achat d'actifs titrisés, prêts préférentiels aux banques...) pourraient ne pas suffire, d'autant que la chute des prix du pétrole risque d'entraîner l'inflation en territoire négatif « pendant une bonne partie de 2015 » . Il rappelle en effet que les anticipations d'inflation sont « extrêmement fragiles » . La baisse des cours du pétrole se fait déjà sentir, comme en Espagne, où les prix à la consommation ont reculé de 1,1 % au mois de décembre, la plus forte baisse depuis juillet 2009.\", \"Alors que le principal taux directeur de la BCE est proche de 0, la marge de manoeuvre de l'institution se réduit. « Si mon analyse est qu'il y a besoin d'un nouveau soutien monétaire et si je suis disposé à réduire les taux mais que cela n'est plus possible, alors je ne dois pas être paralysé à l'idée que la seule option qui reste est l'achat d'obligations souveraines » , a insisté Peter Praet, avant d'ajouter que « les emprunts d'Etat sont les seuls actifs bénéficiant d'un volume de marché significatif » .\", 'Résultats mitigés des prêts TLTRO', \"Le résultat mitigé des prêts TLTRO aux banques montre aussi la difficulté de la BCE à augmenter son bilan pour soutenir la croissance. Un autre chiffre va sans doute infléchir la position de la BCE : les crédits octroyés aux ménages et aux entreprises de la zone euro ont reculé de 0,9 % au mois de novembre. Signe que le transfert de la politique accommodante de la BCE vers l'économie réelle est loin d'être optimal.\", \"Par ailleurs, dans l'entretien accordé au journal allemand, le Belge Peter Praet s'est montré préoccupé par la perspective d'élections législatives anticipées en Grèce. Alors que le parti anti-austérité Syriza est le grand favori des sondages, le chef économiste de la BCE a lancé un avertissement : « La montée du populisme devrait être un signal d'alarme. Les gouvernements doivent donner la priorité aux décisions politiques difficiles et mener à terme les réformes si nécessaires. »\", \"A moins d'un mois des élections législatives en Grèce, il place aussi les électeurs, tentés par un « Grexit » , face à leurs responsabilités : « Les partis populistes dans certains pays promettent des solutions rapides, mais ils n'offrent que des recettes désastreuses » , en rappelant que « tous les pays ont eu leur raison pour entrer dans la zone euro : le vieux système de dévaluation permanente ne fonctionnait pas. Ce qui est désormais requis, c'est de mener les ajustements structurels nécessaires. Une politique de dévaluation ne résout aucun problème structurel. » L'année 2015 sera aussi marquée par la tenue d'élections en Espagne qui pourraient voir la montée en puissance du parti de gauche radicale Podemos. En attendant, les pays de la zone euro continuent de bénéficier de conditions de financement exceptionnelles. Le rendement du taux à 10 ans français est tombé sous le 0,80 % mercredi, alors que le Bund allemand était à 0,537 %.\", 'P. Fay']\n"
     ]
    }
   ],
   "source": [
    "#essaye de recuperer le text d'un article\n",
    "text = xmldoc.xpath(\"//text[@id='1']/p/text()\") \n",
    "\n",
    "#the result is a list of identifiers\n",
    "print(text)"
   ]
  },
  {
   "cell_type": "code",
   "execution_count": 9,
   "metadata": {},
   "outputs": [
    {
     "data": {
      "text/plain": [
       "8"
      ]
     },
     "execution_count": 9,
     "metadata": {},
     "output_type": "execute_result"
    }
   ],
   "source": [
    "len(text)"
   ]
  },
  {
   "cell_type": "code",
   "execution_count": 10,
   "metadata": {},
   "outputs": [
    {
     "name": "stdout",
     "output_type": "stream",
     "text": [
      "['CHRISTOPHE LUCET c.lucet@sudouest.fr']\n"
     ]
    }
   ],
   "source": [
    "#essayer de recuperer l'auteur\n",
    "auteur = xmldoc.xpath(\"//text[@id='2']/@author\") \n",
    "\n",
    "#the result is a list of identifiers\n",
    "print(auteur)"
   ]
  },
  {
   "cell_type": "code",
   "execution_count": 11,
   "metadata": {
    "collapsed": true
   },
   "outputs": [],
   "source": [
    "#tableaux de tous les p"
   ]
  },
  {
   "cell_type": "code",
   "execution_count": 12,
   "metadata": {},
   "outputs": [
    {
     "name": "stdout",
     "output_type": "stream",
     "text": [
      "Le défaut a été « discuté »...La zone euro a mis sur la table hier le scénario d'un défaut grec : « Les créanciers et les États membres ont décidé de commencer à envisager les conséquences d'un non-remboursement de la Grèce et au-delà, selon une source européenne.Un défaut grec est en discussion », mais ce n'est pas la même chose qu'un « Grexit » - du nom du terme désignant une sortie de la zone euro, selon une autre source à Bruxelles.« C'est pour se préparer au pire des scénarios. Les États membres voulaient savoir ce qu'il en était », a confirmé une autre source, informée des discussions.Ce scénario a été évoqué lors d'une réunion de l'Euro Working Group, l'instance préparatoire de l'Eurogroupe, qui se déroule depuis jeudi à Bratislava (Slovaquie).« L'idéal serait qu'il y ait un accord d'ici à jeudi. Si les Grecs travaillent ce week-end et envoient une proposition lundi, ça peut fonctionner. S'ils envoient une proposition mercredi, ce sera forcément beaucoup plus compliqué », selon une source européenne.\n",
      "None\n"
     ]
    }
   ],
   "source": [
    "def get_article_titre():\n",
    "    article = OrderedDict()\n",
    "    text =[] \n",
    "    for i in article_id:\n",
    "        article_id_list = i.split(\" \")\n",
    "        #print(article_id)\n",
    "\n",
    "        #print(article_id_list)\n",
    "        for j in article_id_list:\n",
    "            token_text = xmldoc.xpath(\"//text[@id='\"+j+\"']/p/text()\")\n",
    "            concat = \"\"\n",
    "            for k in token_text:\n",
    "                concat = concat+k\n",
    "            text.append(concat)\n",
    "    print(text[230])\n",
    "print(get_article_titre())        \n",
    "       "
   ]
  },
  {
   "cell_type": "code",
   "execution_count": 14,
   "metadata": {},
   "outputs": [
    {
     "name": "stdout",
     "output_type": "stream",
     "text": [
      "[\"La BCE avance sur le terrain des rachats d'actifs en 2015\"]\n",
      "None\n"
     ]
    }
   ],
   "source": [
    "print(get_article_titre())        \n"
   ]
  },
  {
   "cell_type": "code",
   "execution_count": 13,
   "metadata": {},
   "outputs": [
    {
     "name": "stdout",
     "output_type": "stream",
     "text": [
      "[\"La BCE avance sur le terrain des rachats d'actifs en 2015\"]\n",
      "None\n"
     ]
    }
   ],
   "source": [
    "\n",
    "def get_article_titre():\n",
    "    article = OrderedDict()\n",
    "    titre =[]\n",
    "    for i in article_id:\n",
    "        article_id_list = i.split(\" \")\n",
    "        #print(article_id)\n",
    "\n",
    "        #print(article_id_list) \n",
    "        for j in article_id_list:\n",
    "            token_titre = xmldoc.xpath(\"//text[@id='\"+j+\"']/p[@type='title']/text()\")\n",
    "            titre.append(token_titre)\n",
    "                \n",
    "    print(titre[0])         \n",
    "print(get_article_titre())        \n",
    "        "
   ]
  },
  {
   "cell_type": "code",
   "execution_count": null,
   "metadata": {
    "collapsed": true
   },
   "outputs": [],
   "source": [
    "#recuperation des sources \n",
    "\n",
    "def get_article_source():\n",
    "    article = OrderedDict()\n",
    "    source =[]\n",
    "    for i in article_id:\n",
    "        article_id_list = i.split(\" \")\n",
    "        #print(article_id)\n",
    "\n",
    "        #print(article_id_list) \n",
    "        for j in article_id_list:\n",
    "            token_source = xmldoc.xpath(\"//text[@id='2']/@source\")\n",
    "            titre.append(token_titre)\n",
    "                \n",
    "    print(titre[0])         \n",
    "print(get_article_titre())  "
   ]
  }
 ],
 "metadata": {
  "kernelspec": {
   "display_name": "Python 3",
   "language": "python",
   "name": "python3"
  },
  "language_info": {
   "codemirror_mode": {
    "name": "ipython",
    "version": 3
   },
   "file_extension": ".py",
   "mimetype": "text/x-python",
   "name": "python",
   "nbconvert_exporter": "python",
   "pygments_lexer": "ipython3",
   "version": "3.6.3"
  }
 },
 "nbformat": 4,
 "nbformat_minor": 2
}
