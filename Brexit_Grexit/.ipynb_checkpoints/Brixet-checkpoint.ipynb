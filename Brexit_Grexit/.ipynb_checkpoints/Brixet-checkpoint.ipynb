{
 "cells": [
  {
   "cell_type": "code",
   "execution_count": 1,
   "metadata": {
    "collapsed": true
   },
   "outputs": [],
   "source": [
    "from lxml import etree\n",
    "from lxml.etree import tostring\n",
    "from collections import OrderedDict\n",
    "from collections import defaultdict\n",
    "import itertools as it"
   ]
  },
  {
   "cell_type": "code",
   "execution_count": 2,
   "metadata": {
    "collapsed": true
   },
   "outputs": [],
   "source": [
    "#importation du fichier xml des articles de grexit\n",
    "xmldoc = etree.parse(\"brexit.xml\")"
   ]
  },
  {
   "cell_type": "code",
   "execution_count": 3,
   "metadata": {
    "collapsed": true
   },
   "outputs": [],
   "source": [
    "#on prend les token des lignes de class PER \n",
    "persons_ids = xmldoc.xpath('//tc:namedEntities/tc:entity[@class=\"PER\"]/@tokenIDs', namespaces={'tc': 'http://www.dspin.de/data/textcorpus'})"
   ]
  },
  {
   "cell_type": "code",
   "execution_count": 4,
   "metadata": {
    "collapsed": true
   },
   "outputs": [],
   "source": [
    "article_id = xmldoc.xpath('//text/@id')#on prend les token des lignes de class PER \n",
    "#the result is a list of identifiers\n",
    "#print(article_id)"
   ]
  },
  {
   "cell_type": "code",
   "execution_count": 5,
   "metadata": {},
   "outputs": [
    {
     "name": "stdout",
     "output_type": "stream",
     "text": [
      "Nombre d'article\n"
     ]
    },
    {
     "data": {
      "text/plain": [
       "8674"
      ]
     },
     "execution_count": 5,
     "metadata": {},
     "output_type": "execute_result"
    }
   ],
   "source": [
    "#nbr d'article\n",
    "print(\"Nombre d'article\")\n",
    "len(article_id)"
   ]
  },
  {
   "cell_type": "code",
   "execution_count": 6,
   "metadata": {},
   "outputs": [
    {
     "name": "stdout",
     "output_type": "stream",
     "text": [
      "['Economie & EntrepriseLe risque grec fait de nouveau trembler la zone euro']\n"
     ]
    }
   ],
   "source": [
    "#essaye de recuperer le titre d'un article\n",
    "titre = xmldoc.xpath(\"//text[@id='1']/p[@type='title']/text()\") \n",
    "\n",
    "#the result is a list of identifiers\n",
    "print(titre)"
   ]
  },
  {
   "cell_type": "code",
   "execution_count": null,
   "metadata": {
    "collapsed": true
   },
   "outputs": [],
   "source": [
    "#tableaux de tous les p"
   ]
  },
  {
   "cell_type": "code",
   "execution_count": null,
   "metadata": {
    "collapsed": true
   },
   "outputs": [],
   "source": [
    "def get_article_titre():\n",
    "    article = OrderedDict()\n",
    "    text =[] \n",
    "    for i in article_id:\n",
    "        article_id_list = i.split(\" \")\n",
    "        #print(article_id)\n",
    "\n",
    "        #print(article_id_list)\n",
    "        for j in article_id_list:\n",
    "            token_text = xmldoc.xpath(\"//text[@id='\"+j+\"']/p/text()\")\n",
    "            concat = \"\"\n",
    "            for k in token_text:\n",
    "                concat = concat+k\n",
    "            text.append(concat)\n",
    "    print(text[230])\n",
    "print(get_article_titre())        \n",
    "       "
   ]
  },
  {
   "cell_type": "code",
   "execution_count": null,
   "metadata": {
    "collapsed": true
   },
   "outputs": [],
   "source": []
  },
  {
   "cell_type": "code",
   "execution_count": null,
   "metadata": {
    "collapsed": true
   },
   "outputs": [],
   "source": []
  },
  {
   "cell_type": "code",
   "execution_count": null,
   "metadata": {
    "collapsed": true
   },
   "outputs": [],
   "source": []
  }
 ],
 "metadata": {
  "kernelspec": {
   "display_name": "Python 3",
   "language": "python",
   "name": "python3"
  },
  "language_info": {
   "codemirror_mode": {
    "name": "ipython",
    "version": 3
   },
   "file_extension": ".py",
   "mimetype": "text/x-python",
   "name": "python",
   "nbconvert_exporter": "python",
   "pygments_lexer": "ipython3",
   "version": "3.6.3"
  }
 },
 "nbformat": 4,
 "nbformat_minor": 2
}
