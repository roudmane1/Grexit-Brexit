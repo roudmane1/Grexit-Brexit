{
 "cells": [
  {
   "cell_type": "code",
   "execution_count": 1,
   "metadata": {
    "collapsed": true
   },
   "outputs": [],
   "source": [
    "from lxml import etree\n",
    "from lxml.etree import tostring\n",
    "from collections import OrderedDict\n",
    "from collections import defaultdict\n",
    "import itertools as it"
   ]
  },
  {
   "cell_type": "code",
   "execution_count": 2,
   "metadata": {
    "collapsed": true
   },
   "outputs": [],
   "source": [
    "#importation du fichier xml des articles de grexit\n",
    "xmldoc = etree.parse(\"test_grexit.xml\")\n"
   ]
  },
  {
   "cell_type": "code",
   "execution_count": 3,
   "metadata": {
    "collapsed": true
   },
   "outputs": [],
   "source": [
    "persons_ids = xmldoc.xpath('//tc:namedEntities/tc:entity[@class=\"PER\"]/@tokenIDs', namespaces={'tc': 'http://www.dspin.de/data/textcorpus'})#on prend les token des lignes de class PER \n"
   ]
  },
  {
   "cell_type": "code",
   "execution_count": 4,
   "metadata": {
    "collapsed": true
   },
   "outputs": [],
   "source": [
    "\n",
    "\n",
    "article_id = xmldoc.xpath('//text/@id')#on prend les token des lignes de class PER \n",
    "\n",
    "#the result is a list of identifiers\n",
    "#print(article_id)"
   ]
  },
  {
   "cell_type": "code",
   "execution_count": 5,
   "metadata": {},
   "outputs": [
    {
     "name": "stdout",
     "output_type": "stream",
     "text": [
      "Nombre d'article\n"
     ]
    },
    {
     "data": {
      "text/plain": [
       "1185"
      ]
     },
     "execution_count": 5,
     "metadata": {},
     "output_type": "execute_result"
    }
   ],
   "source": [
    "#nbr d'article\n",
    "print(\"Nombre d'article\")\n",
    "len(article_id)"
   ]
  },
  {
   "cell_type": "code",
   "execution_count": 6,
   "metadata": {},
   "outputs": [
    {
     "name": "stdout",
     "output_type": "stream",
     "text": [
      "[\"La BCE avance sur le terrain des rachats d'actifs en 2015\"]\n"
     ]
    }
   ],
   "source": [
    "#essaye de recuperer le titre d'un article\n",
    "titre = xmldoc.xpath(\"//text[@id='1']/p[@type='title']/text()\") \n",
    "\n",
    "#the result is a list of identifiers\n",
    "print(titre)"
   ]
  },
  {
   "cell_type": "code",
   "execution_count": 7,
   "metadata": {},
   "outputs": [
    {
     "name": "stdout",
     "output_type": "stream",
     "text": [
      "La BCE avance sur le terrain des rachats d'actifs en 2015\n"
     ]
    }
   ],
   "source": [
    "#essaye de recuperer le text d'un article\n",
    "text = xmldoc.xpath(\"//text[@id='1']/p/text()\") \n",
    "\n",
    "#the result is a list of identifiers\n",
    "print(text[0])"
   ]
  },
  {
   "cell_type": "code",
   "execution_count": 8,
   "metadata": {},
   "outputs": [
    {
     "data": {
      "text/plain": [
       "8"
      ]
     },
     "execution_count": 8,
     "metadata": {},
     "output_type": "execute_result"
    }
   ],
   "source": [
    "len(text)"
   ]
  },
  {
   "cell_type": "code",
   "execution_count": 9,
   "metadata": {},
   "outputs": [
    {
     "name": "stdout",
     "output_type": "stream",
     "text": [
      "['CHRISTOPHE LUCET c.lucet@sudouest.fr']\n"
     ]
    }
   ],
   "source": [
    "#essayer de recuperer l'auteur\n",
    "auteur = xmldoc.xpath(\"//text[@id='2']/@author\") \n",
    "\n",
    "#the result is a list of identifiers\n",
    "print(auteur)"
   ]
  },
  {
   "cell_type": "code",
   "execution_count": 10,
   "metadata": {
    "collapsed": true
   },
   "outputs": [],
   "source": [
    "#tableaux de tous les p"
   ]
  },
  {
   "cell_type": "code",
   "execution_count": 17,
   "metadata": {},
   "outputs": [
    {
     "name": "stdout",
     "output_type": "stream",
     "text": [
      "[\"La BCE avance sur le terrain des rachats d'actifs en 2015\", \"La Banque centrale européenne continue de préparer le terrain pour de nouvelles mesures non conventionnelles pour lutter contre le risque de déflation. Peter Praet, son chef économiste, a reconnu dans un entretien au journal allemand « Börsen Zeitung » que les mesures monétaires prises (achat d'actifs titrisés, prêts préférentiels aux banques...) pourraient ne pas suffire, d'autant que la chute des prix du pétrole risque d'entraîner l'inflation en territoire négatif « pendant une bonne partie de 2015 » . Il rappelle en effet que les anticipations d'inflation sont « extrêmement fragiles » . La baisse des cours du pétrole se fait déjà sentir, comme en Espagne, où les prix à la consommation ont reculé de 1,1 % au mois de décembre, la plus forte baisse depuis juillet 2009.\", \"Alors que le principal taux directeur de la BCE est proche de 0, la marge de manoeuvre de l'institution se réduit. « Si mon analyse est qu'il y a besoin d'un nouveau soutien monétaire et si je suis disposé à réduire les taux mais que cela n'est plus possible, alors je ne dois pas être paralysé à l'idée que la seule option qui reste est l'achat d'obligations souveraines » , a insisté Peter Praet, avant d'ajouter que « les emprunts d'Etat sont les seuls actifs bénéficiant d'un volume de marché significatif » .\", 'Résultats mitigés des prêts TLTRO', \"Le résultat mitigé des prêts TLTRO aux banques montre aussi la difficulté de la BCE à augmenter son bilan pour soutenir la croissance. Un autre chiffre va sans doute infléchir la position de la BCE : les crédits octroyés aux ménages et aux entreprises de la zone euro ont reculé de 0,9 % au mois de novembre. Signe que le transfert de la politique accommodante de la BCE vers l'économie réelle est loin d'être optimal.\", \"Par ailleurs, dans l'entretien accordé au journal allemand, le Belge Peter Praet s'est montré préoccupé par la perspective d'élections législatives anticipées en Grèce. Alors que le parti anti-austérité Syriza est le grand favori des sondages, le chef économiste de la BCE a lancé un avertissement : « La montée du populisme devrait être un signal d'alarme. Les gouvernements doivent donner la priorité aux décisions politiques difficiles et mener à terme les réformes si nécessaires. »\", \"A moins d'un mois des élections législatives en Grèce, il place aussi les électeurs, tentés par un « Grexit » , face à leurs responsabilités : « Les partis populistes dans certains pays promettent des solutions rapides, mais ils n'offrent que des recettes désastreuses » , en rappelant que « tous les pays ont eu leur raison pour entrer dans la zone euro : le vieux système de dévaluation permanente ne fonctionnait pas. Ce qui est désormais requis, c'est de mener les ajustements structurels nécessaires. Une politique de dévaluation ne résout aucun problème structurel. » L'année 2015 sera aussi marquée par la tenue d'élections en Espagne qui pourraient voir la montée en puissance du parti de gauche radicale Podemos. En attendant, les pays de la zone euro continuent de bénéficier de conditions de financement exceptionnelles. Le rendement du taux à 10 ans français est tombé sous le 0,80 % mercredi, alors que le Bund allemand était à 0,537 %.\", 'P. Fay']\n",
      "[\"L'euro, atout stratégique pour les Baltes\", \"Al'heure où l'Europe s'interroge sur son avenir, l'entrée de la Lituanie dans la zone euro et l'arrivée de sa voisine la Lettonie à la présidence semestrielle de l'Union sont tout sauf anecdotiques. Bien sûr, les trois pays Baltes - on n'oublie pas l'Estonie -, serrés au fond de la Baltique entre le colosse russe, la Pologne et la Scandinavie, n'ont pas souvent l'occasion de faire la une.\", \"Pourtant, ces petites républiques mènent leur barque avec ténacité depuis leur adhésion à l'Union européenne et à l'Otan en 2004; et leur parcours est de nature à intéresser et encourager ceux de leurs partenaires qui rencontrent des difficultés. À Tallinn depuis trois ans et à Riga depuis l'an dernier, l'euro circule déjà et le changement de devise, qui coïncide avec une solide croissance, a eu des effets positifs sur l'économie, incitant Vilnius à suivre le mouvement, sans oublier - plus tard - une probable adhésion de la Pologne.\", \"Les Baltes voient dans la monnaie unique un atout économique mais plus encore - car l'euro y a ses détracteurs tout comme chez nous - un atout stratégique et culturel : l'adopter revient, pour ces anciens satellites de l'URSS, à confirmer leur émancipation et la fidélité à leurs racines européennes.\", \"Les dirigeants baltes le disent : l'euro est une précieuse garantie politique, perception que le regain de tension actuel avec Moscou ne fait qu'aiguiser. L'annexion de la Crimée par la Russie a eu, sur les bords de la Baltique, un écho encore bien supérieur à celui qu'il a reçu à l'ouest de notre continent, en raison du passé soviétique bien sûr, mais aussi de la présence de fortes minorités russophones dans ces petits pays. C'est là que la crainte d'un conflit ouvert entre les Occidentaux et la Russie poutinienne est la plus vive.\", 'Au moment où la pertinence de l\\'euro fait débat dans une large partie de la zone, et où la question grecque refait surface avec l\\'hypothèse d\\'un \" Grexit \", les Baltes nous rappellent que la monnaie n\\'est pas seulement un outil de cohésion économique mais aussi un choix stratégique. Être attentif aux difficultés sérieuses que rencontre l\\'euro pour devenir le bien commun des Européens est essentiel. Méditer l\\'exemple balte l\\'est tout autant car il y a une dimension de la monnaie qu\\'on a tendance à oublier ici...', \"Pour les Baltes, adopter l'euro revient à confirmer leur émancipation et affirmer leurs racines...\"]\n",
      "['Berlin fait pression sur Athènes avant les élections', \"Trois semaines avant un scrutin décisif en Grèce, l'Allemagne met la pression sur les électeurs grecs, tentés de voter en masse pour le parti de la gauche radicale Syriza. Selon « Der Spiegel » , le gouvernement allemand ne craint désormais plus que la zone implose en cas de sortie de la Grèce. Et, dans l'hypothèse où Aléxis Tsípras, le président de Syriza, devait remporter les élections le 25 janvier, militer pour un effacement de la dette et tourner le dos aux réformes, Angela Merkel et son ministre des Finances, Wolfgang Schäuble, seraient prêts à laisser tomber la Grèce, affirme le magazine allemand.\", '« Grexit »', \"Si cette position devait se confirmer, il s'agirait d'un tournant de la politique de Berlin. En 2012, au pic de la crise de l'euro, la chancelière avait étudié un tel scénario mais s'était finalement convaincue qu'une sortie de la Grèce de la monnaie unique, « Grexit » dans le jargon, déclencherait un effet domino dévastateur. Elle avait ensuite affirmé haut et fort sa volonté de conserver Athènes dans l'euro. Deux ans et demi plus tard, la théorie dominante serait celle de la chaîne. « Si le maillon faible lâche, le reste de la chaîne est plus fort » , décrypte « Der Spiegel » , soulignant le chemin parcouru par le Portugal ou l'Irlande.\", \"Berlin n'a pas souhaité commenter directement. « Le gouvernement part du principe que la Grèce continuera à remplir ses obligations contractuelles vis-à-vis de la troïka » , a seulement souligné un porte-parole de la chancellerie. Au ministère des Finances, on se refuse à « participer aux spéculations » , rappelant les déclarations récentes de Wolfgang Schäuble. « Les réformes difficiles portent leurs fruits et n'ont pas d'alternative » , avait déclaré le ministre la semaine dernière. Un poids lourd du Parti chrétien-démocrate (CDU) va en tout cas dans le sens de la ligne prêtée à la chancellerie et au ministère des Finances. « Il y a trois ou quatre ans, la situation était beaucoup plus critique » , a estimé le vice-président de leur fraction parlementaire Michael Fuchs. Signe de possibles tensions dans la coalition, le ministre de l'Economie, le social-démocrate (SPD) Sigmar Gabriel, indique, lui, que « l'objectif du gouvernement allemand, de l'Union européenne et même du gouvernement d'Athènes, c'est le maintien de la Grèce dans la zone euro » . « Il n'y a pas eu et il n'y a pas de plans pour le cas contraire » , poursuit-il dans une interview à la presse allemande.\", \"En cas de sortie de la Grèce de la zone euro, ce que même Syriza ne souhaite pas, l'Allemagne devrait en effet tirer un trait sur ses créances grecques. Une chose est sûre, le débat sensible qui s'ouvre à Berlin est aussi un signe aux électeurs allemands, de plus en plus tentés par le parti eurosceptique AfD, qui prône une dissolution de la zone euro et dont le chef, Bernd Lucke, s'est réjoui, ce week-end, qu'Angela Merkel et Wolfgang Schäuble se soient « enfin rendus à la raison » .\", 'Thibaut Madelin']\n",
      "['grèce', \"Merkel laisse « fuiter » qu'elle serait prête à mettre Athènes à la porte de la zone euro si les Grecs votaient « mal ».\", \"Àmoins de trois semaines des élections législatives anticipées, les pressions s'accentuent sur les électeurs grecs. C'est d'Allemagne qu'elles se sont fait sentir le plus fort ce week-end. Selon des informations obtenues par l'hebdomadaire Der Spiegel, la chancelière Angela Merkel laisse entendre que Berlin pourrait montrer la porte de la sortie de la zone euro à Athènes en cas de victoire de Syriza et d'engagement des nouvelles autorités grecques dans une politique anti-austéritaire. Le journal invoque des sources « proches du gouvernement » et souligne que la chancelière et son ministre des Finances, Wolfgang Schäuble, jusqu'alors hostiles à cette sortie grecque de l'euro ou « grexit », selon le terme consacré, n'hésiteraient plus à franchir le pas au cas où...\", \"Ce « grexit » serait désormais jugé supportable, « en raison des progrès accomplis par la zone euro depuis le sommet de la crise en 2012 ». Si un porte-parole du gouvernement allemand s'est dit hier convaincu que la Grèce continuerait à « remplir ses obligations contractuelles envers la troïka », il s'est gardé de démentir les allégations du Spiegel, refusant simplement de les commenter.\", \"Quoi qu'il en soit des intentions de Berlin, ces « fuites » viennent à point nommé alimenter la crainte du « chaos » sur laquelle le premier ministre grec sortant, Antonis Samaras (Nouvelle démocratie), s'appuie pour sauver les meubles de son gouvernement de coalition, associant droite et socialistes du Pasok dont le bilan, avec l'explosion des souffrances sociales, est parfaitement exécrable. Le chantage de l'exécutif germanique remplit d'aise l'Alternative pour l'Allemagne (AfD), l'extrême droite anti-euro, son leader, Bernd Lucke, saluant aussitôt « une prise de conscience tardive » du pouvoir. Le nationalisme, en pleine ascension outre-Rhin comme dans de nombreux États membres, tire ainsi le plus grand profit de la débâcle du « modèle austéritaire ».\", \"L'orthodoxie monétariste empoisonne la zone euro au point de la rapprocher toujours plus du spectre de la déflation (chute des prix et des salaires). Ce qui pousse le président de la BCE, Mario Draghi, à ne plus faire mystère d'un recours à des mesures « non conventionnelles », comme celle d'un plan d'achats directs de titres de dette publique par l'institut d'émission, pour tenter de stimuler une zone euro en panne.\", \"Alexis Tsipras, le dirigeant de Syriza, pointait ce week-end qu'il faudrait agir vite dans ce sens, contre la rigidité de Berlin et de la troïka. Et pour revendiquer qu'Athènes puisse très vite user d'un tel mécanisme, seul moyen de faire face à la « crise humanitaire » qui affecte le pays.\"]\n"
     ]
    },
    {
     "ename": "IndexError",
     "evalue": "list index out of range",
     "output_type": "error",
     "traceback": [
      "\u001b[1;31m---------------------------------------------------------------------------\u001b[0m",
      "\u001b[1;31mIndexError\u001b[0m                                Traceback (most recent call last)",
      "\u001b[1;32m<ipython-input-17-5cb8826ccf60>\u001b[0m in \u001b[0;36m<module>\u001b[1;34m()\u001b[0m\n\u001b[0;32m     14\u001b[0m                 \u001b[0mtext\u001b[0m\u001b[1;33m.\u001b[0m\u001b[0mappend\u001b[0m\u001b[1;33m(\u001b[0m\u001b[0mtoken_text\u001b[0m\u001b[1;33m)\u001b[0m\u001b[1;33m\u001b[0m\u001b[0m\n\u001b[0;32m     15\u001b[0m         \u001b[0mprint\u001b[0m\u001b[1;33m(\u001b[0m\u001b[0mtext\u001b[0m\u001b[1;33m[\u001b[0m\u001b[1;36m4\u001b[0m\u001b[1;33m]\u001b[0m\u001b[1;33m)\u001b[0m\u001b[1;33m\u001b[0m\u001b[0m\n\u001b[1;32m---> 16\u001b[1;33m \u001b[0mprint\u001b[0m\u001b[1;33m(\u001b[0m\u001b[0mget_article_titre\u001b[0m\u001b[1;33m(\u001b[0m\u001b[1;33m)\u001b[0m\u001b[1;33m)\u001b[0m\u001b[1;33m\u001b[0m\u001b[0m\n\u001b[0m\u001b[0;32m     17\u001b[0m \u001b[1;33m\u001b[0m\u001b[0m\n",
      "\u001b[1;32m<ipython-input-17-5cb8826ccf60>\u001b[0m in \u001b[0;36mget_article_titre\u001b[1;34m()\u001b[0m\n\u001b[0;32m     13\u001b[0m             \u001b[1;32mfor\u001b[0m \u001b[0mk\u001b[0m \u001b[1;32min\u001b[0m \u001b[0mrange\u001b[0m\u001b[1;33m(\u001b[0m\u001b[1;36m1\u001b[0m\u001b[1;33m,\u001b[0m\u001b[0mlen\u001b[0m\u001b[1;33m(\u001b[0m\u001b[0mtoken_text\u001b[0m\u001b[1;33m)\u001b[0m\u001b[1;33m)\u001b[0m\u001b[1;33m:\u001b[0m\u001b[1;33m\u001b[0m\u001b[0m\n\u001b[0;32m     14\u001b[0m                 \u001b[0mtext\u001b[0m\u001b[1;33m.\u001b[0m\u001b[0mappend\u001b[0m\u001b[1;33m(\u001b[0m\u001b[0mtoken_text\u001b[0m\u001b[1;33m)\u001b[0m\u001b[1;33m\u001b[0m\u001b[0m\n\u001b[1;32m---> 15\u001b[1;33m         \u001b[0mprint\u001b[0m\u001b[1;33m(\u001b[0m\u001b[0mtext\u001b[0m\u001b[1;33m[\u001b[0m\u001b[1;36m4\u001b[0m\u001b[1;33m]\u001b[0m\u001b[1;33m)\u001b[0m\u001b[1;33m\u001b[0m\u001b[0m\n\u001b[0m\u001b[0;32m     16\u001b[0m \u001b[0mprint\u001b[0m\u001b[1;33m(\u001b[0m\u001b[0mget_article_titre\u001b[0m\u001b[1;33m(\u001b[0m\u001b[1;33m)\u001b[0m\u001b[1;33m)\u001b[0m\u001b[1;33m\u001b[0m\u001b[0m\n\u001b[0;32m     17\u001b[0m \u001b[1;33m\u001b[0m\u001b[0m\n",
      "\u001b[1;31mIndexError\u001b[0m: list index out of range"
     ]
    }
   ],
   "source": [
    "def get_article_titre():\n",
    "    article = OrderedDict()\n",
    "    for i in article_id:\n",
    "        article_id_list = i.split(\" \")\n",
    "        #print(article_id)\n",
    "\n",
    "        #print(article_id_list)\n",
    "        text =[]  \n",
    "        for j in article_id_list:\n",
    "                \n",
    "            token_text = xmldoc.xpath(\"//text[@id='\"+j+\"']/p/text()\")\n",
    "            #print(token_text)\n",
    "            for k in range(1,len(token_text)):\n",
    "                text.append(token_text)\n",
    "        print(text[4])\n",
    "print(get_article_titre())        \n",
    "       "
   ]
  },
  {
   "cell_type": "code",
   "execution_count": null,
   "metadata": {
    "collapsed": true
   },
   "outputs": [],
   "source": []
  },
  {
   "cell_type": "code",
   "execution_count": null,
   "metadata": {},
   "outputs": [],
   "source": [
    "\n",
    "def get_article_titre():\n",
    "    article = OrderedDict()\n",
    "    for i in article_id:\n",
    "        article_id_list = i.split(\" \")\n",
    "        #print(article_id)\n",
    "\n",
    "        #print(article_id_list)\n",
    "        titre =[]  \n",
    "        for j in article_id_list:\n",
    "                \n",
    "                token_titre = xmldoc.xpath(\"//text[@id='\"+j+\"']/p[@type='title']/text()\")\n",
    "                #print(token)\n",
    "                titre.append(token_titre)\n",
    "                \n",
    "        print(titre)         \n",
    "print(get_article_titre())        \n",
    "        "
   ]
  },
  {
   "cell_type": "code",
   "execution_count": null,
   "metadata": {
    "collapsed": true
   },
   "outputs": [],
   "source": []
  }
 ],
 "metadata": {
  "kernelspec": {
   "display_name": "Python 3",
   "language": "python",
   "name": "python3"
  },
  "language_info": {
   "codemirror_mode": {
    "name": "ipython",
    "version": 3
   },
   "file_extension": ".py",
   "mimetype": "text/x-python",
   "name": "python",
   "nbconvert_exporter": "python",
   "pygments_lexer": "ipython3",
   "version": "3.6.3"
  }
 },
 "nbformat": 4,
 "nbformat_minor": 2
}
